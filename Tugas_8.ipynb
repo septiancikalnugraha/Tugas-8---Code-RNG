{
  "nbformat": 4,
  "nbformat_minor": 0,
  "metadata": {
    "colab": {
      "provenance": [],
      "authorship_tag": "ABX9TyMYS1W9Mi4jFHd5Z/DYA4ex",
      "include_colab_link": true
    },
    "kernelspec": {
      "name": "python3",
      "display_name": "Python 3"
    },
    "language_info": {
      "name": "python"
    }
  },
  "cells": [
    {
      "cell_type": "markdown",
      "metadata": {
        "id": "view-in-github",
        "colab_type": "text"
      },
      "source": [
        "<a href=\"https://colab.research.google.com/github/septiancikalnugraha/Tugas-8---Code-RNG/blob/main/Tugas_8.ipynb\" target=\"_parent\"><img src=\"https://colab.research.google.com/assets/colab-badge.svg\" alt=\"Open In Colab\"/></a>"
      ]
    },
    {
      "cell_type": "code",
      "execution_count": 1,
      "metadata": {
        "colab": {
          "base_uri": "https://localhost:8080/"
        },
        "id": "qRfTB3d1FJCS",
        "outputId": "6de2d3f9-b960-4202-fde8-9c68dd768d0c"
      },
      "outputs": [
        {
          "output_type": "stream",
          "name": "stdout",
          "text": [
            "i   | Zi-1 (bilangan sebelumnya)   | Rumus Zi = (5.Zi-1) mod 59       | Zi (bilangan acak)   | Ui = Zi/59 (bilangan acak seragam)\n",
            "------------------------------------------------------------------------------------------------------------------------\n",
            "1   | 9                            | (5 * 9) mod 59                   | 45                   | 0.763                         \n",
            "2   | 45                           | (5 * 45) mod 59                  | 48                   | 0.814                         \n",
            "3   | 48                           | (5 * 48) mod 59                  | 4                    | 0.068                         \n",
            "4   | 4                            | (5 * 4) mod 59                   | 20                   | 0.339                         \n",
            "5   | 20                           | (5 * 20) mod 59                  | 41                   | 0.695                         \n",
            "6   | 41                           | (5 * 41) mod 59                  | 28                   | 0.475                         \n",
            "7   | 28                           | (5 * 28) mod 59                  | 22                   | 0.373                         \n",
            "8   | 22                           | (5 * 22) mod 59                  | 51                   | 0.864                         \n",
            "9   | 51                           | (5 * 51) mod 59                  | 19                   | 0.322                         \n",
            "10  | 19                           | (5 * 19) mod 59                  | 36                   | 0.61                          \n",
            "11  | 36                           | (5 * 36) mod 59                  | 3                    | 0.051                         \n",
            "12  | 3                            | (5 * 3) mod 59                   | 15                   | 0.254                         \n",
            "13  | 15                           | (5 * 15) mod 59                  | 16                   | 0.271                         \n",
            "14  | 16                           | (5 * 16) mod 59                  | 21                   | 0.356                         \n",
            "15  | 21                           | (5 * 21) mod 59                  | 46                   | 0.78                          \n",
            "16  | 46                           | (5 * 46) mod 59                  | 53                   | 0.898                         \n",
            "17  | 53                           | (5 * 53) mod 59                  | 29                   | 0.492                         \n",
            "18  | 29                           | (5 * 29) mod 59                  | 27                   | 0.458                         \n",
            "19  | 27                           | (5 * 27) mod 59                  | 17                   | 0.288                         \n",
            "20  | 17                           | (5 * 17) mod 59                  | 26                   | 0.441                         \n"
          ]
        }
      ],
      "source": [
        "a = 5\n",
        "m = 59\n",
        "z0 = 9\n",
        "n = 20\n",
        "\n",
        "result = []\n",
        "Z = z0\n",
        "\n",
        "# Generate random numbers\n",
        "for i in range(1, n + 1):\n",
        "    Z_prev = Z\n",
        "    Z = (a * Z) % m\n",
        "    U = Z / m\n",
        "    rumus = f\"(5 * {Z_prev}) mod {m}\"\n",
        "    result.append([i, Z_prev, rumus, Z, round(U, 3)])\n",
        "\n",
        "# Print the table header\n",
        "print(f\"{'i':<3} | {'Zi-1 (bilangan sebelumnya)':<28} | {'Rumus Zi = (5.Zi-1) mod 59':<32} | {'Zi (bilangan acak)':<20} | {'Ui = Zi/59 (bilangan acak seragam)':<30}\")\n",
        "print(\"-\" * 120)\n",
        "\n",
        "# Print the table rows\n",
        "for row in result:\n",
        "    print(f\"{row[0]:<3} | {row[1]:<28} | {row[2]:<32} | {row[3]:<20} | {row[4]:<30}\")\n"
      ]
    },
    {
      "cell_type": "markdown",
      "source": [
        "# Bagian Baru"
      ],
      "metadata": {
        "id": "4YS2waKtGKEz"
      }
    }
  ]
}